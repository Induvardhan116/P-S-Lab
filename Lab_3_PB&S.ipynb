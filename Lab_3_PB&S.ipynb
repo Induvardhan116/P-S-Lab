{
  "nbformat": 4,
  "nbformat_minor": 0,
  "metadata": {
    "colab": {
      "provenance": [],
      "authorship_tag": "ABX9TyP6xgG1DhUBLAhewRjCRLLb",
      "include_colab_link": true
    },
    "kernelspec": {
      "name": "python3",
      "display_name": "Python 3"
    },
    "language_info": {
      "name": "python"
    }
  },
  "cells": [
    {
      "cell_type": "markdown",
      "metadata": {
        "id": "view-in-github",
        "colab_type": "text"
      },
      "source": [
        "<a href=\"https://colab.research.google.com/github/Induvardhan116/P-S-Lab/blob/main/Lab_3_PB%26S.ipynb\" target=\"_parent\"><img src=\"https://colab.research.google.com/assets/colab-badge.svg\" alt=\"Open In Colab\"/></a>"
      ]
    },
    {
      "cell_type": "code",
      "execution_count": 1,
      "metadata": {
        "colab": {
          "base_uri": "https://localhost:8080/"
        },
        "id": "kZKw0_u3bfBC",
        "outputId": "29036566-61e3-4ff0-c572-ada5ac9226ef"
      },
      "outputs": [
        {
          "output_type": "stream",
          "name": "stdout",
          "text": [
            "Ungrouped Data\n",
            "Median: 45.0\n",
            "Mode: 45\n"
          ]
        }
      ],
      "source": [
        "# 1st Question\n",
        "import numpy as np\n",
        "import pandas as pd\n",
        "from scipy import stats\n",
        "data = [12, 45, 67, 23, 45, 89, 45, 12, 33, 67, 67, 78, 45, 23, 23, 56, 89, 45, 33, 45, 33, 45]\n",
        "median_ungrp = np.median(data)\n",
        "mode_ungrp = stats.mode(data).mode\n",
        "if isinstance(mode_ungrp, np.ndarray):\n",
        "    mode_ungrp = mode_ungrp[0]\n",
        "mode_ungrp_pandas = pd.Series(data).mode().values[0]\n",
        "\n",
        "print(\"Ungrouped Data\")\n",
        "print(\"Median:\", median_ungrp)\n",
        "print(\"Mode:\", mode_ungrp)"
      ]
    },
    {
      "cell_type": "code",
      "source": [
        "#2nd Question\n",
        "scores = np.array([10, 20, 30, 40, 50])\n",
        "freq = np.array([5, 8, 12, 15, 7])\n",
        "median_grp = np.median(np.repeat(scores, freq))\n",
        "df = pd.DataFrame({'Scores': scores, 'Frequency': freq})\n",
        "mode_grp = df.loc[df['Frequency'].idxmax(), 'Scores']\n",
        "\n",
        "print(\"Grouped Data\")\n",
        "print(\"Median:\", median_grp)\n",
        "print(\"Mode:\", mode_grp)\n"
      ],
      "metadata": {
        "colab": {
          "base_uri": "https://localhost:8080/"
        },
        "id": "v1_bpeXvd7oY",
        "outputId": "eadaaf0d-1a7e-4380-da2c-d6a17575ce1c"
      },
      "execution_count": 2,
      "outputs": [
        {
          "output_type": "stream",
          "name": "stdout",
          "text": [
            "Grouped Data\n",
            "Median: 30.0\n",
            "Mode: 40\n"
          ]
        }
      ]
    },
    {
      "cell_type": "code",
      "source": [
        "# 3 Question\n",
        "class_intervals = [(0, 10), (10, 20), (20, 30), (30, 40), (40, 50)]\n",
        "freq_intervals = [4, 6, 10, 8, 2]\n",
        "cum_freq = np.cumsum(freq_intervals)\n",
        "N = sum(freq_intervals)\n",
        "median_class_idx = np.where(cum_freq >= N / 2)[0][0]\n",
        "L = class_intervals[median_class_idx][0]\n",
        "F = cum_freq[median_class_idx - 1] if median_class_idx > 0 else 0\n",
        "f = freq_intervals[median_class_idx]\n",
        "h = class_intervals[0][1] - class_intervals[0][0]\n",
        "median_cls = L + ((N / 2 - F) / f) * h\n",
        "modal_class_idx = np.argmax(freq_intervals)\n",
        "L_mode = class_intervals[modal_class_idx][0]\n",
        "f1 = freq_intervals[modal_class_idx]\n",
        "f0 = freq_intervals[modal_class_idx - 1] if modal_class_idx > 0 else 0\n",
        "f2 = freq_intervals[modal_class_idx + 1] if modal_class_idx < len(freq_intervals) - 1 else 0\n",
        "\n",
        "mode_cls = L_mode + ((f1 - f0) / (2 * f1 - f0 - f2)) * h\n",
        "\n",
        "print(\"Grouped Data\")\n",
        "print(\"Median:\", median_cls)\n",
        "print(\"Mode:\", mode_cls)\n"
      ],
      "metadata": {
        "colab": {
          "base_uri": "https://localhost:8080/"
        },
        "id": "ROfKUYTRd97y",
        "outputId": "e289ff44-0236-4822-825f-5356a12edc81"
      },
      "execution_count": 3,
      "outputs": [
        {
          "output_type": "stream",
          "name": "stdout",
          "text": [
            "Grouped Data\n",
            "Median: 25.0\n",
            "Mode: 26.666666666666664\n"
          ]
        }
      ]
    },
    {
      "cell_type": "code",
      "source": [],
      "metadata": {
        "id": "W42D4dwQd_jx"
      },
      "execution_count": null,
      "outputs": []
    }
  ]
}