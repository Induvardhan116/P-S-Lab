{
  "nbformat": 4,
  "nbformat_minor": 0,
  "metadata": {
    "colab": {
      "provenance": [],
      "authorship_tag": "ABX9TyNiVIAwD2dmQ50SrMo1mIOD",
      "include_colab_link": true
    },
    "kernelspec": {
      "name": "python3",
      "display_name": "Python 3"
    },
    "language_info": {
      "name": "python"
    }
  },
  "cells": [
    {
      "cell_type": "markdown",
      "metadata": {
        "id": "view-in-github",
        "colab_type": "text"
      },
      "source": [
        "<a href=\"https://colab.research.google.com/github/Induvardhan116/P-S-Lab/blob/main/Lab_5.ipynb\" target=\"_parent\"><img src=\"https://colab.research.google.com/assets/colab-badge.svg\" alt=\"Open In Colab\"/></a>"
      ]
    },
    {
      "cell_type": "code",
      "execution_count": 6,
      "metadata": {
        "id": "WrNFPO7nZRJm"
      },
      "outputs": [],
      "source": [
        "#Question 1:\n",
        "import numpy as np\n",
        "import pandas as pd\n",
        "from scipy import stats"
      ]
    },
    {
      "cell_type": "code",
      "source": [
        "ages = [45, 67, 89, 23, 45, 67, 89, 34, 56, 78, 90, 21, 45, 67, 89, 23, 45,\n",
        "        56, 78, 34, 23, 45, 67, 89, 45, 67, 89, 12, 34, 56, 78, 90, 23, 45,\n",
        "        67, 12, 34, 78, 45, 67, 89, 34, 56, 78, 90, 23, 56, 78, 89, 45, 12,\n",
        "        67, 45, 78, 23, 45, 67, 89, 34, 45, 23, 78, 67, 89, 45, 67, 89, 12,\n",
        "        34, 56, 78, 90, 23, 12, 34, 56, 78, 23, 45, 67, 89, 34, 45, 23, 45,\n",
        "        67, 89, 12, 34, 56, 78, 90, 45, 23]\n"
      ],
      "metadata": {
        "id": "s-QFuWuRfCnN"
      },
      "execution_count": 7,
      "outputs": []
    },
    {
      "cell_type": "code",
      "source": [
        "median_value = np.median(ages)"
      ],
      "metadata": {
        "id": "mEsi5GtjfEPE"
      },
      "execution_count": 8,
      "outputs": []
    },
    {
      "cell_type": "code",
      "source": [
        "mode_value = stats.mode(ages, keepdims=True).mode[0]\n"
      ],
      "metadata": {
        "id": "rPAeQKPgfHsN"
      },
      "execution_count": 9,
      "outputs": []
    },
    {
      "cell_type": "code",
      "source": [
        "print(f\"Median: {median_value}\")\n",
        "print(f\"Mode: {mode_value}\")"
      ],
      "metadata": {
        "colab": {
          "base_uri": "https://localhost:8080/"
        },
        "id": "3tHJxZrBfKGJ",
        "outputId": "4e310270-3869-439e-8d20-35b90712f94b"
      },
      "execution_count": 10,
      "outputs": [
        {
          "output_type": "stream",
          "name": "stdout",
          "text": [
            "Median: 56.0\n",
            "Mode: 45\n"
          ]
        }
      ]
    },
    {
      "cell_type": "code",
      "source": [
        "#Question 2:\n",
        "scores = [10, 20, 30, 40, 50, 60, 70, 80, 90, 100]\n",
        "frequencies = [200, 350, 400, 300, 250, 200, 150, 80, 50, 20]\n",
        "df = pd.DataFrame({'Scores': scores, 'Frequency': frequencies})\n",
        "\n",
        "df['Cumulative Frequency'] = df['Frequency'].cumsum()\n",
        "\n",
        "N = df['Frequency'].sum()\n",
        "\n",
        "median_position = N / 2\n",
        "median_class_index = df[df['Cumulative Frequency'] >= median_position].index[0]\n",
        "\n",
        "mode_index = df['Frequency'].idxmax()\n",
        "mode_value = df.loc[mode_index, 'Scores']\n",
        "\n",
        "print(f\"Median Class: {df.loc[median_class_index, 'Scores']}\")\n",
        "print(f\"Mode: {mode_value}\")"
      ],
      "metadata": {
        "colab": {
          "base_uri": "https://localhost:8080/"
        },
        "id": "gWtEAxQRfM83",
        "outputId": "c25b6799-f7ac-4d60-f0c1-cb2377e04fff"
      },
      "execution_count": 11,
      "outputs": [
        {
          "output_type": "stream",
          "name": "stdout",
          "text": [
            "Median Class: 40\n",
            "Mode: 30\n"
          ]
        }
      ]
    },
    {
      "cell_type": "code",
      "source": [
        " # Question 3:\n",
        "class_intervals = [(0, 20), (20, 40), (40, 60), (60, 80), (80, 100), (100, 120), (120, 140)]\n",
        "frequencies = [50, 120, 200, 300, 220, 70, 40]\n",
        "\n",
        "df = pd.DataFrame({'Class Interval': class_intervals, 'Frequency': frequencies})\n",
        "\n",
        "df['Cumulative Frequency'] = df['Frequency'].cumsum()\n",
        "\n",
        "N = df['Frequency'].sum()\n",
        "\n",
        "median_position = N / 2\n",
        "median_class_index = df[df['Cumulative Frequency'] >= median_position].index[0]\n",
        "\n",
        "L = df.loc[median_class_index, 'Class Interval'][0]\n",
        "F = df.loc[median_class_index - 1, 'Cumulative Frequency'] if median_class_index > 0 else 0\n",
        "f_median = df.loc[median_class_index, 'Frequency']\n",
        "h = df.loc[median_class_index, 'Class Interval'][1] - df.loc[median_class_index, 'Class Interval'][0]\n",
        "\n",
        "median_value = L + ((median_position - F) / f_median) * h\n",
        "\n",
        "mode_class_index = df['Frequency'].idxmax()\n",
        "L_mode = df.loc[mode_class_index, 'Class Interval'][0]\n",
        "f1 = df.loc[mode_class_index, 'Frequency']\n",
        "f0 = df.loc[mode_class_index - 1, 'Frequency'] if mode_class_index > 0 else 0\n",
        "f2 = df.loc[mode_class_index + 1, 'Frequency'] if mode_class_index < len(df) - 1 else 0\n",
        "h_mode = df.loc[mode_class_index, 'Class Interval'][1] - df.loc[mode_class_index, 'Class Interval'][0]\n",
        "\n",
        "mode_value = L_mode + ((f1 - f0) / (2*f1 - f0 - f2)) * h_mode\n",
        "\n",
        "print(f\"Median: {median_value}\")\n",
        "print(f\"Mode: {mode_value}\")\n",
        "print(f\"Modal Class: {df.loc[mode_class_index, 'Class Interval']}\")"
      ],
      "metadata": {
        "colab": {
          "base_uri": "https://localhost:8080/"
        },
        "id": "3AAoqMRhiLFZ",
        "outputId": "05b9227f-45e6-436c-8076-c08e076eb91b"
      },
      "execution_count": 13,
      "outputs": [
        {
          "output_type": "stream",
          "name": "stdout",
          "text": [
            "Median: 68.66666666666667\n",
            "Mode: 71.11111111111111\n",
            "Modal Class: (60, 80)\n"
          ]
        }
      ]
    },
    {
      "cell_type": "code",
      "source": [
        ""
      ],
      "metadata": {
        "id": "4agaUzHIkGzB"
      },
      "execution_count": null,
      "outputs": []
    }
  ]
}