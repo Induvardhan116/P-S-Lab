{
  "nbformat": 4,
  "nbformat_minor": 0,
  "metadata": {
    "colab": {
      "provenance": [],
      "authorship_tag": "ABX9TyOPCe/FWF/xiyQCIXajC5ii",
      "include_colab_link": true
    },
    "kernelspec": {
      "name": "python3",
      "display_name": "Python 3"
    },
    "language_info": {
      "name": "python"
    }
  },
  "cells": [
    {
      "cell_type": "markdown",
      "metadata": {
        "id": "view-in-github",
        "colab_type": "text"
      },
      "source": [
        "<a href=\"https://colab.research.google.com/github/Induvardhan116/P-S-Lab/blob/main/Lab7.ipynb\" target=\"_parent\"><img src=\"https://colab.research.google.com/assets/colab-badge.svg\" alt=\"Open In Colab\"/></a>"
      ]
    },
    {
      "cell_type": "code",
      "execution_count": null,
      "metadata": {
        "colab": {
          "base_uri": "https://localhost:8080/"
        },
        "id": "ZqjPvN-VtsqX",
        "outputId": "58a554cb-7748-402b-acad-25f6d3aaa80f"
      },
      "outputs": [
        {
          "output_type": "stream",
          "name": "stdout",
          "text": [
            "Sample Mean: 500.53\n",
            "Sample Variance: 10.53\n",
            "Sample Standard Deviation: 3.25\n",
            "95% Confidence Interval: (np.float64(499.32144008751123), np.float64(501.7452265791555))\n",
            "Hypothesis Test Decision: Fail to reject H₀: No significant difference from 500 grams.\n"
          ]
        }
      ],
      "source": [
        "import numpy as np\n",
        "import scipy.stats as stats\n",
        "\n",
        "# Given sample data (product weights in grams)\n",
        "data = [502, 497, 498, 505, 499, 501, 500, 496, 504, 503,\n",
        "        495, 508, 499, 500, 497, 506, 498, 503, 502, 501,\n",
        "        496, 497, 500, 504, 505, 498, 499, 501, 500, 502]\n",
        "\n",
        "# Step 1: Compute sample statistics\n",
        "sample_mean = np.mean(data)  # Sample mean\n",
        "sample_std = np.std(data, ddof=1)  # Sample standard deviation (unbiased estimator)\n",
        "n = len(data)  # Sample size\n",
        "sample_variance = np.var(data, ddof=1)  # Sample variance\n",
        "\n",
        "# Step 2: Compute the 95% Confidence Interval\n",
        "confidence_level = 0.95\n",
        "alpha = 1 - confidence_level  # Significance level\n",
        "t_critical = stats.t.ppf(1 - alpha/2, df=n-1)  # t-critical value\n",
        "\n",
        "# Margin of Error\n",
        "margin_of_error = t_critical * (sample_std / np.sqrt(n))\n",
        "confidence_interval = (sample_mean - margin_of_error, sample_mean + margin_of_error)\n",
        "\n",
        "# Step 3: Hypothesis Test Decision\n",
        "hypothesized_mean = 500\n",
        "if hypothesized_mean >= confidence_interval[0] and hypothesized_mean <= confidence_interval[1]:\n",
        "    decision = \"Fail to reject H₀: No significant difference from 500 grams.\"\n",
        "else:\n",
        "    decision = \"Reject H₀: Significant difference from 500 grams.\"\n",
        "\n",
        "# Print results\n",
        "print(f\"Sample Mean: {sample_mean:.2f}\")\n",
        "print(f\"Sample Variance: {sample_variance:.2f}\")\n",
        "print(f\"Sample Standard Deviation: {sample_std:.2f}\")\n",
        "print(f\"95% Confidence Interval: {confidence_interval}\")\n",
        "print(f\"Hypothesis Test Decision: {decision}\")\n"
      ]
    },
    {
      "cell_type": "code",
      "source": [
        "import numpy as np\n",
        "import scipy.stats as stats\n",
        "\n",
        "# Given sample data (room rent prices in ₹)\n",
        "data = [8800, 10000, 7000, 9900, 9950, 8200, 10100, 9000, 9700, 10800, 10000, 10250, 10300, 9900, 4000, 6000, 6500]\n",
        "\n",
        "# Step 1: Compute sample statistics\n",
        "sample_mean = np.mean(data)  # Sample mean\n",
        "sample_std = np.std(data, ddof=1)  # Sample standard deviation (unbiased estimator)\n",
        "n = len(data)  # Sample size\n",
        "\n",
        "# Step 2: Compute the 95% Confidence Interval\n",
        "confidence_level = 0.95\n",
        "alpha = 1 - confidence_level  # Significance level\n",
        "t_critical = stats.t.ppf(1 - alpha/2, df=n-1)  # t-critical value for two-tailed test\n",
        "\n",
        "# Margin of Error\n",
        "margin_of_error = t_critical * (sample_std / np.sqrt(n))\n",
        "confidence_interval = (sample_mean - margin_of_error, sample_mean + margin_of_error)\n",
        "\n",
        "# Step 3: Hypothesis Test Assessment\n",
        "hypothesized_mean = 10000\n",
        "if hypothesized_mean >= confidence_interval[0] and hypothesized_mean <= confidence_interval[1]:\n",
        "    decision = \"Fail to reject H₀: No significant difference from ₹10,000.\"\n",
        "else:\n",
        "    decision = \"Reject H₀: Significant difference from ₹10,000.\"\n",
        "\n",
        "# Print results\n",
        "print(f\"Sample Mean: ₹{sample_mean:.2f}\")\n",
        "print(f\"Sample Standard Deviation: ₹{sample_std:.2f}\")\n",
        "print(f\"95% Confidence Interval: ₹{confidence_interval[0]:.2f} to ₹{confidence_interval[1]:.2f}\")\n",
        "print(f\"Hypothesis Test Decision: {decision}\")\n"
      ],
      "metadata": {
        "colab": {
          "base_uri": "https://localhost:8080/"
        },
        "id": "tEDWRVZ4t4cN",
        "outputId": "dadfb990-6c8f-49fe-8613-372323dc3eed"
      },
      "execution_count": null,
      "outputs": [
        {
          "output_type": "stream",
          "name": "stdout",
          "text": [
            "Sample Mean: ₹8847.06\n",
            "Sample Standard Deviation: ₹1891.55\n",
            "95% Confidence Interval: ₹7874.51 to ₹9819.60\n",
            "Hypothesis Test Decision: Reject H₀: Significant difference from ₹10,000.\n"
          ]
        }
      ]
    },
    {
      "cell_type": "code",
      "source": [],
      "metadata": {
        "id": "eT9KeWrPuFnI"
      },
      "execution_count": null,
      "outputs": []
    }
  ]
}